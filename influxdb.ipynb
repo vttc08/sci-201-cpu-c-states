{
 "cells": [
  {
   "cell_type": "markdown",
   "metadata": {},
   "source": [
    "# InfluxDB Testing"
   ]
  },
  {
   "cell_type": "code",
   "execution_count": 24,
   "metadata": {},
   "outputs": [],
   "source": [
    "from influxdb_client import InfluxDBClient\n",
    "import dotenv\n",
    "import os\n",
    "import datetime"
   ]
  },
  {
   "cell_type": "code",
   "execution_count": 13,
   "metadata": {},
   "outputs": [],
   "source": [
    "dotenv.load_dotenv('.env')\n",
    "url = os.getenv(\"INFLUXDB_URL\")\n",
    "token = os.getenv(\"INFLUXDB_TOKEN\")\n",
    "org = os.getenv(\"INFLUXDB_ORG\")\n",
    "bucket = os.getenv(\"INFLUXDB_BUCKET\")"
   ]
  },
  {
   "cell_type": "code",
   "execution_count": 32,
   "metadata": {},
   "outputs": [],
   "source": [
    "query = f'from(bucket:\"{bucket}\") |> range(start: -12m, stop: -2m) \\\n",
    "  |> filter(fn: (r) => r[\"entity_id\"] == \"sonoff_1001e01c1e_power\")\\\n",
    "  |> filter(fn: (r) => r[\"_field\"] == \"value\")\\\n",
    "  '\n",
    "\n",
    "client = InfluxDBClient(url=url, token=token, org=org)\n",
    "query_api = client.query_api()\n",
    "tables = query_api.query(query=query)"
   ]
  },
  {
   "cell_type": "code",
   "execution_count": 33,
   "metadata": {},
   "outputs": [],
   "source": [
    "measurement = []\n",
    "listoflist = []\n",
    "i = 0\n",
    "for table in tables:\n",
    "    for row in table.records:\n",
    "        record = [row.values[\"_time\"].timestamp(), row.values[\"_value\"]]\n",
    "        listoflist.append(record)\n"
   ]
  },
  {
   "cell_type": "code",
   "execution_count": null,
   "metadata": {},
   "outputs": [],
   "source": [
    "listoflist"
   ]
  },
  {
   "cell_type": "code",
   "execution_count": 35,
   "metadata": {},
   "outputs": [],
   "source": [
    "# define static variables\n",
    "utid = round(datetime.datetime.now().timestamp())\n",
    "cstate='C7'\n",
    "hrs = datetime.datetime.now().hour\n",
    "cpu = 1.88 # will be actual function to get cpu usage in linux environment\n"
   ]
  },
  {
   "cell_type": "markdown",
   "metadata": {},
   "source": []
  },
  {
   "cell_type": "code",
   "execution_count": null,
   "metadata": {},
   "outputs": [],
   "source": [
    "with open('influx-data.csv', 'w') as f:\n",
    "    f.write('utid,C-state,hrs,time,value,cpu\\n') # write header"
   ]
  },
  {
   "cell_type": "code",
   "execution_count": 36,
   "metadata": {},
   "outputs": [],
   "source": [
    "for i in listoflist:\n",
    "    with open('influx-data.csv', 'a') as f:\n",
    "        f.write(f'{utid},{cstate},{hrs},{i[0]},{i[1]},{cpu}\\n')"
   ]
  },
  {
   "cell_type": "markdown",
   "metadata": {},
   "source": [
    "Generating Random Data for Analysis"
   ]
  },
  {
   "cell_type": "code",
   "execution_count": 111,
   "metadata": {},
   "outputs": [],
   "source": [
    "import random\n",
    "\n",
    "random_int_c7 = [random.randint(2200,3000)/100 for i in range(200)]\n",
    "random_int_c3 = [random.randint(2250,3000)/100 for i in range(200)]\n",
    "random_int_c0 = [random.randint(2300,3000)/100 for i in range(200)]"
   ]
  },
  {
   "cell_type": "code",
   "execution_count": 112,
   "metadata": {},
   "outputs": [],
   "source": [
    "def write_random(c, rand_list, writer):\n",
    "    hrs = 9\n",
    "    for i in rand_list:\n",
    "        hrs += 1\n",
    "        writer.write(f'Timestamp, {hrs}, {i}, {c}\\n')\n",
    "\n",
    "\n",
    "with open('influx-test.csv','w') as csvfile:\n",
    "    csvfile.write('Timestamp, Hrs, Value, C-State\\n')\n",
    "    write_random('C7', random_int_c7, csvfile)\n",
    "    write_random('C3', random_int_c3, csvfile)\n",
    "    write_random('C0', random_int_c0, csvfile)\n"
   ]
  }
 ],
 "metadata": {
  "kernelspec": {
   "display_name": "venv",
   "language": "python",
   "name": "python3"
  },
  "language_info": {
   "codemirror_mode": {
    "name": "ipython",
    "version": 3
   },
   "file_extension": ".py",
   "mimetype": "text/x-python",
   "name": "python",
   "nbconvert_exporter": "python",
   "pygments_lexer": "ipython3",
   "version": "3.9.13"
  }
 },
 "nbformat": 4,
 "nbformat_minor": 2
}
