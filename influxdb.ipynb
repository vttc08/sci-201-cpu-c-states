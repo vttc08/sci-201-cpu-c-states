{
 "cells": [
  {
   "cell_type": "markdown",
   "metadata": {},
   "source": [
    "# InfluxDB Testing"
   ]
  },
  {
   "cell_type": "code",
   "execution_count": 3,
   "metadata": {},
   "outputs": [],
   "source": [
    "from influxdb_client import InfluxDBClient\n",
    "import dotenv\n",
    "import os"
   ]
  },
  {
   "cell_type": "code",
   "execution_count": 32,
   "metadata": {},
   "outputs": [],
   "source": [
    "dotenv.load_dotenv('.env')\n",
    "url = \"http://10.10.120.16:8086\"\n",
    "token = os.getenv(\"INFLUXDB_TOKEN\")\n",
    "org = os.getenv(\"INFLUXDB_ORG\")"
   ]
  },
  {
   "cell_type": "code",
   "execution_count": 79,
   "metadata": {},
   "outputs": [],
   "source": [
    "query = 'from(bucket:\"homeassistant\") |> range(start: -11m, stop: -1m) \\\n",
    "  |> filter(fn: (r) => r[\"entity_id\"] == \"sonoff_1001e01c1e_power\")\\\n",
    "  |> filter(fn: (r) => r[\"_field\"] == \"value\")\\\n",
    "  '\n",
    "\n",
    "client = InfluxDBClient(url=\"http://10.10.120.16:8086\", token=token, org=org)\n",
    "query_api = client.query_api()\n",
    "tables = query_api.query(query=query)"
   ]
  },
  {
   "cell_type": "code",
   "execution_count": null,
   "metadata": {},
   "outputs": [],
   "source": [
    "measurement = []\n",
    "i = 0\n",
    "for table in tables:\n",
    "    for row in table.records:\n",
    "        print(row.values[\"_time\"]) # row.values is a dictionary\n",
    "        print(row.values[\"_value\"])\n",
    "        value = row.values[\"_value\"]\n",
    "        measurement.append(value)"
   ]
  },
  {
   "cell_type": "code",
   "execution_count": null,
   "metadata": {},
   "outputs": [],
   "source": [
    "measurement"
   ]
  },
  {
   "cell_type": "code",
   "execution_count": 82,
   "metadata": {},
   "outputs": [],
   "source": [
    "average = sum(measurement) / len(measurement)"
   ]
  },
  {
   "cell_type": "code",
   "execution_count": 83,
   "metadata": {},
   "outputs": [
    {
     "data": {
      "text/plain": [
       "23.792347826086953"
      ]
     },
     "execution_count": 83,
     "metadata": {},
     "output_type": "execute_result"
    }
   ],
   "source": [
    "average"
   ]
  },
  {
   "cell_type": "markdown",
   "metadata": {},
   "source": [
    "Generating Random Data for Analysis"
   ]
  },
  {
   "cell_type": "code",
   "execution_count": 111,
   "metadata": {},
   "outputs": [],
   "source": [
    "import random\n",
    "\n",
    "random_int_c7 = [random.randint(2200,3000)/100 for i in range(200)]\n",
    "random_int_c3 = [random.randint(2250,3000)/100 for i in range(200)]\n",
    "random_int_c0 = [random.randint(2300,3000)/100 for i in range(200)]"
   ]
  },
  {
   "cell_type": "code",
   "execution_count": 112,
   "metadata": {},
   "outputs": [],
   "source": [
    "def write_random(c, rand_list, writer):\n",
    "    hrs = 9\n",
    "    for i in rand_list:\n",
    "        hrs += 1\n",
    "        writer.write(f'Timestamp, {hrs}, {i}, {c}\\n')\n",
    "\n",
    "\n",
    "with open('influx-test.csv','w') as csvfile:\n",
    "    csvfile.write('Timestamp, Hrs, Value, C-State\\n')\n",
    "    write_random('C7', random_int_c7, csvfile)\n",
    "    write_random('C3', random_int_c3, csvfile)\n",
    "    write_random('C0', random_int_c0, csvfile)\n"
   ]
  }
 ],
 "metadata": {
  "kernelspec": {
   "display_name": "venv",
   "language": "python",
   "name": "python3"
  },
  "language_info": {
   "codemirror_mode": {
    "name": "ipython",
    "version": 3
   },
   "file_extension": ".py",
   "mimetype": "text/x-python",
   "name": "python",
   "nbconvert_exporter": "python",
   "pygments_lexer": "ipython3",
   "version": "3.9.13"
  }
 },
 "nbformat": 4,
 "nbformat_minor": 2
}
