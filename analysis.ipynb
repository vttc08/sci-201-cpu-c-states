{
 "cells": [
  {
   "cell_type": "code",
   "execution_count": 1,
   "metadata": {},
   "outputs": [],
   "source": [
    "from matplotlib import pyplot as plt\n",
    "import numpy as np\n",
    "import pandas as pd"
   ]
  },
  {
   "cell_type": "code",
   "execution_count": 2,
   "metadata": {},
   "outputs": [],
   "source": [
    "# Load Dataset\n",
    "data = pd.read_csv('influx-data.csv')"
   ]
  },
  {
   "cell_type": "code",
   "execution_count": 3,
   "metadata": {},
   "outputs": [],
   "source": [
    "# Filter out by C-state\n",
    "cstate = 'C7'\n",
    "treatment = data[data['C-state'] == cstate]"
   ]
  },
  {
   "cell_type": "code",
   "execution_count": null,
   "metadata": {},
   "outputs": [],
   "source": [
    "# find out the unique utid from each C-state\n",
    "unique = treatment['utid'].unique()\n",
    "for i in unique:\n",
    "    print(i)"
   ]
  },
  {
   "cell_type": "code",
   "execution_count": 5,
   "metadata": {},
   "outputs": [],
   "source": [
    "# Load functions\n",
    "def plotter(df, plotter): # data frame, plotter (eg. ax1)\n",
    "    plotter.plot(df['time'], df['value'])\n",
    "    plotter.text(0.5, 0.5, f\"Mean: {df['value'].mean()}\", fontsize=12, ha='center', transform=plotter.transAxes)\n",
    "    plotter.text(0.5, 0.4, f\"Median: {df['value'].median()}\", fontsize=12, ha='center', transform=plotter.transAxes)\n",
    "    plotter.set_ylim(ylim)\n",
    "\n",
    "def make_list(df): # data frame\n",
    "    return list(zip(list(df['time']), list(df['value'])))\n",
    "\n",
    "def integration(records):\n",
    "    # Integration of Data\n",
    "    t_intial = records[0][0]\n",
    "    for i in range(len(records)): # list modification\n",
    "        records[i][0] = records[i][0] - t_intial\n",
    "\n",
    "    area = 0\n",
    "    for i in range(len(records)-1):\n",
    "        ts_i = records[i][0]\n",
    "        ts_f = records[i+1][0]\n",
    "        v_i = records[i][1]\n",
    "        v_f = records[i+1][1]\n",
    "        elapsed = ts_f - ts_i\n",
    "        area += (v_i * elapsed + (v_f - v_i) * elapsed / 2) / records[-1][0] # trapezoidal rule\n",
    "    return area\n"
   ]
  },
  {
   "cell_type": "code",
   "execution_count": 384,
   "metadata": {},
   "outputs": [],
   "source": [
    "# Write CSV Header (only run once)\n",
    "with open('influxdb.csv','w') as f:\n",
    "    f.write('c-state,hrs,mean,med,25%,filtered,cpu\\n')"
   ]
  },
  {
   "cell_type": "markdown",
   "metadata": {},
   "source": [
    "# Data Visualization For Loop"
   ]
  },
  {
   "cell_type": "code",
   "execution_count": null,
   "metadata": {},
   "outputs": [],
   "source": [
    "limit = 33 # set a cutoff for filtered data\n",
    "ylim = (20, 50) # adjust y-axis range\n",
    "for i in unique:\n",
    "    unit = treatment[treatment['utid'] == i]\n",
    "    unit_mod = unit[unit['value']<limit]\n",
    "    fig, (ax1, ax2, ax3) = plt.subplots(1,3)\n",
    "    fig.set_size_inches(25,3)\n",
    "    plotter(unit, ax1)\n",
    "    plotter(unit_mod, ax2)\n",
    "    ax3.hist(unit['value'], bins=10)"
   ]
  },
  {
   "cell_type": "code",
   "execution_count": 7,
   "metadata": {},
   "outputs": [],
   "source": [
    "# break apart plotting and csv writing for faster csv writing\n",
    "for i in unique:\n",
    "    unit = treatment[treatment['utid'] == i]\n",
    "    unit_mod = unit[unit['value']<limit]\n",
    "    orig_record = list(map(list, make_list(unit)))\n",
    "    mod_record = list(map(list, make_list(unit_mod)))\n",
    "    # define variables\n",
    "    hrs = unit['hrs'].mean().astype(int)\n",
    "    mean = integration(orig_record)\n",
    "    med = unit['value'].median()\n",
    "    q25 = unit['value'].quantile(0.25)\n",
    "    filtered = integration(mod_record)\n",
    "    cpu = unit['cpu'].mean().round(2)\n",
    "    with open('influxdb.csv','a') as f:\n",
    "        f.write(f\"{cstate},{hrs},{mean},{med},{q25},{filtered},{cpu}\\n\")"
   ]
  }
 ],
 "metadata": {
  "kernelspec": {
   "display_name": "venv",
   "language": "python",
   "name": "python3"
  },
  "language_info": {
   "codemirror_mode": {
    "name": "ipython",
    "version": 3
   },
   "file_extension": ".py",
   "mimetype": "text/x-python",
   "name": "python",
   "nbconvert_exporter": "python",
   "pygments_lexer": "ipython3",
   "version": "3.9.13"
  }
 },
 "nbformat": 4,
 "nbformat_minor": 2
}
